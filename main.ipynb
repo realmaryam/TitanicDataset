{
 "cells": [
  {
   "cell_type": "markdown",
   "metadata": {},
   "source": [
    "# Titanic Project"
   ]
  },
  {
   "cell_type": "code",
   "execution_count": 1,
   "metadata": {},
   "outputs": [],
   "source": [
    "import numpy as np\n",
    "import pandas as pd\n",
    "import seaborn as sns"
   ]
  },
  {
   "cell_type": "markdown",
   "metadata": {},
   "source": [
    "## load dataset"
   ]
  },
  {
   "cell_type": "code",
   "execution_count": 2,
   "metadata": {},
   "outputs": [],
   "source": [
    "df = sns.load_dataset('titanic')"
   ]
  },
  {
   "cell_type": "code",
   "execution_count": 3,
   "metadata": {},
   "outputs": [
    {
     "data": {
      "text/html": [
       "<div>\n",
       "<style scoped>\n",
       "    .dataframe tbody tr th:only-of-type {\n",
       "        vertical-align: middle;\n",
       "    }\n",
       "\n",
       "    .dataframe tbody tr th {\n",
       "        vertical-align: top;\n",
       "    }\n",
       "\n",
       "    .dataframe thead th {\n",
       "        text-align: right;\n",
       "    }\n",
       "</style>\n",
       "<table border=\"1\" class=\"dataframe\">\n",
       "  <thead>\n",
       "    <tr style=\"text-align: right;\">\n",
       "      <th></th>\n",
       "      <th>survived</th>\n",
       "      <th>pclass</th>\n",
       "      <th>sex</th>\n",
       "      <th>age</th>\n",
       "      <th>sibsp</th>\n",
       "      <th>parch</th>\n",
       "      <th>fare</th>\n",
       "      <th>embarked</th>\n",
       "      <th>class</th>\n",
       "      <th>who</th>\n",
       "      <th>adult_male</th>\n",
       "      <th>deck</th>\n",
       "      <th>embark_town</th>\n",
       "      <th>alive</th>\n",
       "      <th>alone</th>\n",
       "    </tr>\n",
       "  </thead>\n",
       "  <tbody>\n",
       "    <tr>\n",
       "      <th>0</th>\n",
       "      <td>0</td>\n",
       "      <td>3</td>\n",
       "      <td>male</td>\n",
       "      <td>22.0</td>\n",
       "      <td>1</td>\n",
       "      <td>0</td>\n",
       "      <td>7.2500</td>\n",
       "      <td>S</td>\n",
       "      <td>Third</td>\n",
       "      <td>man</td>\n",
       "      <td>True</td>\n",
       "      <td>NaN</td>\n",
       "      <td>Southampton</td>\n",
       "      <td>no</td>\n",
       "      <td>False</td>\n",
       "    </tr>\n",
       "    <tr>\n",
       "      <th>1</th>\n",
       "      <td>1</td>\n",
       "      <td>1</td>\n",
       "      <td>female</td>\n",
       "      <td>38.0</td>\n",
       "      <td>1</td>\n",
       "      <td>0</td>\n",
       "      <td>71.2833</td>\n",
       "      <td>C</td>\n",
       "      <td>First</td>\n",
       "      <td>woman</td>\n",
       "      <td>False</td>\n",
       "      <td>C</td>\n",
       "      <td>Cherbourg</td>\n",
       "      <td>yes</td>\n",
       "      <td>False</td>\n",
       "    </tr>\n",
       "    <tr>\n",
       "      <th>2</th>\n",
       "      <td>1</td>\n",
       "      <td>3</td>\n",
       "      <td>female</td>\n",
       "      <td>26.0</td>\n",
       "      <td>0</td>\n",
       "      <td>0</td>\n",
       "      <td>7.9250</td>\n",
       "      <td>S</td>\n",
       "      <td>Third</td>\n",
       "      <td>woman</td>\n",
       "      <td>False</td>\n",
       "      <td>NaN</td>\n",
       "      <td>Southampton</td>\n",
       "      <td>yes</td>\n",
       "      <td>True</td>\n",
       "    </tr>\n",
       "    <tr>\n",
       "      <th>3</th>\n",
       "      <td>1</td>\n",
       "      <td>1</td>\n",
       "      <td>female</td>\n",
       "      <td>35.0</td>\n",
       "      <td>1</td>\n",
       "      <td>0</td>\n",
       "      <td>53.1000</td>\n",
       "      <td>S</td>\n",
       "      <td>First</td>\n",
       "      <td>woman</td>\n",
       "      <td>False</td>\n",
       "      <td>C</td>\n",
       "      <td>Southampton</td>\n",
       "      <td>yes</td>\n",
       "      <td>False</td>\n",
       "    </tr>\n",
       "    <tr>\n",
       "      <th>4</th>\n",
       "      <td>0</td>\n",
       "      <td>3</td>\n",
       "      <td>male</td>\n",
       "      <td>35.0</td>\n",
       "      <td>0</td>\n",
       "      <td>0</td>\n",
       "      <td>8.0500</td>\n",
       "      <td>S</td>\n",
       "      <td>Third</td>\n",
       "      <td>man</td>\n",
       "      <td>True</td>\n",
       "      <td>NaN</td>\n",
       "      <td>Southampton</td>\n",
       "      <td>no</td>\n",
       "      <td>True</td>\n",
       "    </tr>\n",
       "  </tbody>\n",
       "</table>\n",
       "</div>"
      ],
      "text/plain": [
       "   survived  pclass     sex   age  sibsp  parch     fare embarked  class  \\\n",
       "0         0       3    male  22.0      1      0   7.2500        S  Third   \n",
       "1         1       1  female  38.0      1      0  71.2833        C  First   \n",
       "2         1       3  female  26.0      0      0   7.9250        S  Third   \n",
       "3         1       1  female  35.0      1      0  53.1000        S  First   \n",
       "4         0       3    male  35.0      0      0   8.0500        S  Third   \n",
       "\n",
       "     who  adult_male deck  embark_town alive  alone  \n",
       "0    man        True  NaN  Southampton    no  False  \n",
       "1  woman       False    C    Cherbourg   yes  False  \n",
       "2  woman       False  NaN  Southampton   yes   True  \n",
       "3  woman       False    C  Southampton   yes  False  \n",
       "4    man        True  NaN  Southampton    no   True  "
      ]
     },
     "execution_count": 3,
     "metadata": {},
     "output_type": "execute_result"
    }
   ],
   "source": [
    "df.head()"
   ]
  },
  {
   "cell_type": "markdown",
   "metadata": {},
   "source": [
    "## check data types"
   ]
  },
  {
   "cell_type": "code",
   "execution_count": 4,
   "metadata": {},
   "outputs": [
    {
     "data": {
      "text/plain": [
       "survived          int64\n",
       "pclass            int64\n",
       "sex              object\n",
       "age             float64\n",
       "sibsp             int64\n",
       "parch             int64\n",
       "fare            float64\n",
       "embarked         object\n",
       "class          category\n",
       "who              object\n",
       "adult_male         bool\n",
       "deck           category\n",
       "embark_town      object\n",
       "alive            object\n",
       "alone              bool\n",
       "dtype: object"
      ]
     },
     "execution_count": 4,
     "metadata": {},
     "output_type": "execute_result"
    }
   ],
   "source": [
    "df.dtypes"
   ]
  },
  {
   "cell_type": "code",
   "execution_count": 5,
   "metadata": {},
   "outputs": [
    {
     "data": {
      "text/plain": [
       "{'sex': 2, 'embarked': 3, 'who': 3, 'embark_town': 3, 'alive': 2}"
      ]
     },
     "execution_count": 5,
     "metadata": {},
     "output_type": "execute_result"
    }
   ],
   "source": [
    "{ col: df[col].nunique() for col in df.columns if df[col].dtype == 'object' }"
   ]
  },
  {
   "cell_type": "code",
   "execution_count": 6,
   "metadata": {},
   "outputs": [],
   "source": [
    "df = df.astype(\n",
    "    {\n",
    "        'alive': 'category',\n",
    "        'sex': 'category',\n",
    "        'embarked': 'category',\n",
    "        'who': 'category',\n",
    "        'embark_town': 'category',\n",
    "    }\n",
    ")"
   ]
  },
  {
   "cell_type": "code",
   "execution_count": 7,
   "metadata": {},
   "outputs": [
    {
     "data": {
      "text/plain": [
       "0       no\n",
       "1      yes\n",
       "2      yes\n",
       "3      yes\n",
       "4       no\n",
       "      ... \n",
       "886     no\n",
       "887    yes\n",
       "888     no\n",
       "889    yes\n",
       "890     no\n",
       "Name: alive, Length: 891, dtype: category\n",
       "Categories (2, object): ['no', 'yes']"
      ]
     },
     "execution_count": 7,
     "metadata": {},
     "output_type": "execute_result"
    }
   ],
   "source": [
    "df.alive"
   ]
  },
  {
   "cell_type": "code",
   "execution_count": 8,
   "metadata": {},
   "outputs": [
    {
     "data": {
      "text/plain": [
       "0        male\n",
       "1      female\n",
       "2      female\n",
       "3      female\n",
       "4        male\n",
       "        ...  \n",
       "886      male\n",
       "887    female\n",
       "888    female\n",
       "889      male\n",
       "890      male\n",
       "Name: sex, Length: 891, dtype: category\n",
       "Categories (2, object): ['female', 'male']"
      ]
     },
     "execution_count": 8,
     "metadata": {},
     "output_type": "execute_result"
    }
   ],
   "source": [
    "df.sex"
   ]
  },
  {
   "cell_type": "code",
   "execution_count": 9,
   "metadata": {},
   "outputs": [
    {
     "data": {
      "text/plain": [
       "0      0\n",
       "1      1\n",
       "2      1\n",
       "3      1\n",
       "4      0\n",
       "      ..\n",
       "886    0\n",
       "887    1\n",
       "888    0\n",
       "889    1\n",
       "890    0\n",
       "Length: 891, dtype: int8"
      ]
     },
     "execution_count": 9,
     "metadata": {},
     "output_type": "execute_result"
    }
   ],
   "source": [
    "df.alive.cat.codes"
   ]
  },
  {
   "cell_type": "code",
   "execution_count": 10,
   "metadata": {},
   "outputs": [],
   "source": [
    "df.alive = df.alive.cat.codes"
   ]
  },
  {
   "cell_type": "code",
   "execution_count": 11,
   "metadata": {},
   "outputs": [],
   "source": [
    "df.sex = df.sex.cat.codes"
   ]
  },
  {
   "cell_type": "code",
   "execution_count": 12,
   "metadata": {},
   "outputs": [
    {
     "data": {
      "text/html": [
       "<div>\n",
       "<style scoped>\n",
       "    .dataframe tbody tr th:only-of-type {\n",
       "        vertical-align: middle;\n",
       "    }\n",
       "\n",
       "    .dataframe tbody tr th {\n",
       "        vertical-align: top;\n",
       "    }\n",
       "\n",
       "    .dataframe thead th {\n",
       "        text-align: right;\n",
       "    }\n",
       "</style>\n",
       "<table border=\"1\" class=\"dataframe\">\n",
       "  <thead>\n",
       "    <tr style=\"text-align: right;\">\n",
       "      <th></th>\n",
       "      <th>alive</th>\n",
       "      <th>sex</th>\n",
       "    </tr>\n",
       "  </thead>\n",
       "  <tbody>\n",
       "    <tr>\n",
       "      <th>0</th>\n",
       "      <td>0</td>\n",
       "      <td>1</td>\n",
       "    </tr>\n",
       "    <tr>\n",
       "      <th>1</th>\n",
       "      <td>1</td>\n",
       "      <td>0</td>\n",
       "    </tr>\n",
       "    <tr>\n",
       "      <th>2</th>\n",
       "      <td>1</td>\n",
       "      <td>0</td>\n",
       "    </tr>\n",
       "    <tr>\n",
       "      <th>3</th>\n",
       "      <td>1</td>\n",
       "      <td>0</td>\n",
       "    </tr>\n",
       "    <tr>\n",
       "      <th>4</th>\n",
       "      <td>0</td>\n",
       "      <td>1</td>\n",
       "    </tr>\n",
       "    <tr>\n",
       "      <th>...</th>\n",
       "      <td>...</td>\n",
       "      <td>...</td>\n",
       "    </tr>\n",
       "    <tr>\n",
       "      <th>886</th>\n",
       "      <td>0</td>\n",
       "      <td>1</td>\n",
       "    </tr>\n",
       "    <tr>\n",
       "      <th>887</th>\n",
       "      <td>1</td>\n",
       "      <td>0</td>\n",
       "    </tr>\n",
       "    <tr>\n",
       "      <th>888</th>\n",
       "      <td>0</td>\n",
       "      <td>0</td>\n",
       "    </tr>\n",
       "    <tr>\n",
       "      <th>889</th>\n",
       "      <td>1</td>\n",
       "      <td>1</td>\n",
       "    </tr>\n",
       "    <tr>\n",
       "      <th>890</th>\n",
       "      <td>0</td>\n",
       "      <td>1</td>\n",
       "    </tr>\n",
       "  </tbody>\n",
       "</table>\n",
       "<p>891 rows × 2 columns</p>\n",
       "</div>"
      ],
      "text/plain": [
       "     alive  sex\n",
       "0        0    1\n",
       "1        1    0\n",
       "2        1    0\n",
       "3        1    0\n",
       "4        0    1\n",
       "..     ...  ...\n",
       "886      0    1\n",
       "887      1    0\n",
       "888      0    0\n",
       "889      1    1\n",
       "890      0    1\n",
       "\n",
       "[891 rows x 2 columns]"
      ]
     },
     "execution_count": 12,
     "metadata": {},
     "output_type": "execute_result"
    }
   ],
   "source": [
    "df[['alive', 'sex']]"
   ]
  },
  {
   "cell_type": "code",
   "execution_count": 13,
   "metadata": {},
   "outputs": [
    {
     "data": {
      "text/plain": [
       "survived          int64\n",
       "pclass            int64\n",
       "sex                int8\n",
       "age             float64\n",
       "sibsp             int64\n",
       "parch             int64\n",
       "fare            float64\n",
       "embarked       category\n",
       "class          category\n",
       "who            category\n",
       "adult_male         bool\n",
       "deck           category\n",
       "embark_town    category\n",
       "alive              int8\n",
       "alone              bool\n",
       "dtype: object"
      ]
     },
     "execution_count": 13,
     "metadata": {},
     "output_type": "execute_result"
    }
   ],
   "source": [
    "df.dtypes"
   ]
  },
  {
   "cell_type": "markdown",
   "metadata": {},
   "source": [
    "## check correlation"
   ]
  },
  {
   "cell_type": "code",
   "execution_count": 14,
   "metadata": {},
   "outputs": [
    {
     "data": {
      "text/html": [
       "<div>\n",
       "<style scoped>\n",
       "    .dataframe tbody tr th:only-of-type {\n",
       "        vertical-align: middle;\n",
       "    }\n",
       "\n",
       "    .dataframe tbody tr th {\n",
       "        vertical-align: top;\n",
       "    }\n",
       "\n",
       "    .dataframe thead th {\n",
       "        text-align: right;\n",
       "    }\n",
       "</style>\n",
       "<table border=\"1\" class=\"dataframe\">\n",
       "  <thead>\n",
       "    <tr style=\"text-align: right;\">\n",
       "      <th></th>\n",
       "      <th>survived</th>\n",
       "      <th>pclass</th>\n",
       "      <th>sex</th>\n",
       "      <th>age</th>\n",
       "      <th>sibsp</th>\n",
       "      <th>parch</th>\n",
       "      <th>fare</th>\n",
       "      <th>adult_male</th>\n",
       "      <th>alive</th>\n",
       "      <th>alone</th>\n",
       "    </tr>\n",
       "  </thead>\n",
       "  <tbody>\n",
       "    <tr>\n",
       "      <th>survived</th>\n",
       "      <td>1.000000</td>\n",
       "      <td>-0.338481</td>\n",
       "      <td>-0.543351</td>\n",
       "      <td>-0.077221</td>\n",
       "      <td>-0.035322</td>\n",
       "      <td>0.081629</td>\n",
       "      <td>0.257307</td>\n",
       "      <td>-0.557080</td>\n",
       "      <td>1.000000</td>\n",
       "      <td>-0.203367</td>\n",
       "    </tr>\n",
       "    <tr>\n",
       "      <th>pclass</th>\n",
       "      <td>-0.338481</td>\n",
       "      <td>1.000000</td>\n",
       "      <td>0.131900</td>\n",
       "      <td>-0.369226</td>\n",
       "      <td>0.083081</td>\n",
       "      <td>0.018443</td>\n",
       "      <td>-0.549500</td>\n",
       "      <td>0.094035</td>\n",
       "      <td>-0.338481</td>\n",
       "      <td>0.135207</td>\n",
       "    </tr>\n",
       "    <tr>\n",
       "      <th>sex</th>\n",
       "      <td>-0.543351</td>\n",
       "      <td>0.131900</td>\n",
       "      <td>1.000000</td>\n",
       "      <td>0.093254</td>\n",
       "      <td>-0.114631</td>\n",
       "      <td>-0.245489</td>\n",
       "      <td>-0.182333</td>\n",
       "      <td>0.908578</td>\n",
       "      <td>-0.543351</td>\n",
       "      <td>0.303646</td>\n",
       "    </tr>\n",
       "    <tr>\n",
       "      <th>age</th>\n",
       "      <td>-0.077221</td>\n",
       "      <td>-0.369226</td>\n",
       "      <td>0.093254</td>\n",
       "      <td>1.000000</td>\n",
       "      <td>-0.308247</td>\n",
       "      <td>-0.189119</td>\n",
       "      <td>0.096067</td>\n",
       "      <td>0.280328</td>\n",
       "      <td>-0.077221</td>\n",
       "      <td>0.198270</td>\n",
       "    </tr>\n",
       "    <tr>\n",
       "      <th>sibsp</th>\n",
       "      <td>-0.035322</td>\n",
       "      <td>0.083081</td>\n",
       "      <td>-0.114631</td>\n",
       "      <td>-0.308247</td>\n",
       "      <td>1.000000</td>\n",
       "      <td>0.414838</td>\n",
       "      <td>0.159651</td>\n",
       "      <td>-0.253586</td>\n",
       "      <td>-0.035322</td>\n",
       "      <td>-0.584471</td>\n",
       "    </tr>\n",
       "    <tr>\n",
       "      <th>parch</th>\n",
       "      <td>0.081629</td>\n",
       "      <td>0.018443</td>\n",
       "      <td>-0.245489</td>\n",
       "      <td>-0.189119</td>\n",
       "      <td>0.414838</td>\n",
       "      <td>1.000000</td>\n",
       "      <td>0.216225</td>\n",
       "      <td>-0.349943</td>\n",
       "      <td>0.081629</td>\n",
       "      <td>-0.583398</td>\n",
       "    </tr>\n",
       "    <tr>\n",
       "      <th>fare</th>\n",
       "      <td>0.257307</td>\n",
       "      <td>-0.549500</td>\n",
       "      <td>-0.182333</td>\n",
       "      <td>0.096067</td>\n",
       "      <td>0.159651</td>\n",
       "      <td>0.216225</td>\n",
       "      <td>1.000000</td>\n",
       "      <td>-0.182024</td>\n",
       "      <td>0.257307</td>\n",
       "      <td>-0.271832</td>\n",
       "    </tr>\n",
       "    <tr>\n",
       "      <th>adult_male</th>\n",
       "      <td>-0.557080</td>\n",
       "      <td>0.094035</td>\n",
       "      <td>0.908578</td>\n",
       "      <td>0.280328</td>\n",
       "      <td>-0.253586</td>\n",
       "      <td>-0.349943</td>\n",
       "      <td>-0.182024</td>\n",
       "      <td>1.000000</td>\n",
       "      <td>-0.557080</td>\n",
       "      <td>0.404744</td>\n",
       "    </tr>\n",
       "    <tr>\n",
       "      <th>alive</th>\n",
       "      <td>1.000000</td>\n",
       "      <td>-0.338481</td>\n",
       "      <td>-0.543351</td>\n",
       "      <td>-0.077221</td>\n",
       "      <td>-0.035322</td>\n",
       "      <td>0.081629</td>\n",
       "      <td>0.257307</td>\n",
       "      <td>-0.557080</td>\n",
       "      <td>1.000000</td>\n",
       "      <td>-0.203367</td>\n",
       "    </tr>\n",
       "    <tr>\n",
       "      <th>alone</th>\n",
       "      <td>-0.203367</td>\n",
       "      <td>0.135207</td>\n",
       "      <td>0.303646</td>\n",
       "      <td>0.198270</td>\n",
       "      <td>-0.584471</td>\n",
       "      <td>-0.583398</td>\n",
       "      <td>-0.271832</td>\n",
       "      <td>0.404744</td>\n",
       "      <td>-0.203367</td>\n",
       "      <td>1.000000</td>\n",
       "    </tr>\n",
       "  </tbody>\n",
       "</table>\n",
       "</div>"
      ],
      "text/plain": [
       "            survived    pclass       sex       age     sibsp     parch  \\\n",
       "survived    1.000000 -0.338481 -0.543351 -0.077221 -0.035322  0.081629   \n",
       "pclass     -0.338481  1.000000  0.131900 -0.369226  0.083081  0.018443   \n",
       "sex        -0.543351  0.131900  1.000000  0.093254 -0.114631 -0.245489   \n",
       "age        -0.077221 -0.369226  0.093254  1.000000 -0.308247 -0.189119   \n",
       "sibsp      -0.035322  0.083081 -0.114631 -0.308247  1.000000  0.414838   \n",
       "parch       0.081629  0.018443 -0.245489 -0.189119  0.414838  1.000000   \n",
       "fare        0.257307 -0.549500 -0.182333  0.096067  0.159651  0.216225   \n",
       "adult_male -0.557080  0.094035  0.908578  0.280328 -0.253586 -0.349943   \n",
       "alive       1.000000 -0.338481 -0.543351 -0.077221 -0.035322  0.081629   \n",
       "alone      -0.203367  0.135207  0.303646  0.198270 -0.584471 -0.583398   \n",
       "\n",
       "                fare  adult_male     alive     alone  \n",
       "survived    0.257307   -0.557080  1.000000 -0.203367  \n",
       "pclass     -0.549500    0.094035 -0.338481  0.135207  \n",
       "sex        -0.182333    0.908578 -0.543351  0.303646  \n",
       "age         0.096067    0.280328 -0.077221  0.198270  \n",
       "sibsp       0.159651   -0.253586 -0.035322 -0.584471  \n",
       "parch       0.216225   -0.349943  0.081629 -0.583398  \n",
       "fare        1.000000   -0.182024  0.257307 -0.271832  \n",
       "adult_male -0.182024    1.000000 -0.557080  0.404744  \n",
       "alive       0.257307   -0.557080  1.000000 -0.203367  \n",
       "alone      -0.271832    0.404744 -0.203367  1.000000  "
      ]
     },
     "execution_count": 14,
     "metadata": {},
     "output_type": "execute_result"
    }
   ],
   "source": [
    "df.corr(numeric_only=True)"
   ]
  },
  {
   "cell_type": "code",
   "execution_count": 15,
   "metadata": {},
   "outputs": [
    {
     "data": {
      "text/html": [
       "<style type=\"text/css\">\n",
       "#T_00e9c_row0_col0, #T_00e9c_row0_col8, #T_00e9c_row1_col1, #T_00e9c_row2_col2, #T_00e9c_row3_col3, #T_00e9c_row4_col4, #T_00e9c_row5_col5, #T_00e9c_row6_col6, #T_00e9c_row7_col7, #T_00e9c_row8_col0, #T_00e9c_row8_col8, #T_00e9c_row9_col9 {\n",
       "  background-color: #b40426;\n",
       "  color: #f1f1f1;\n",
       "}\n",
       "#T_00e9c_row0_col1, #T_00e9c_row5_col7, #T_00e9c_row8_col1 {\n",
       "  background-color: #6485ec;\n",
       "  color: #f1f1f1;\n",
       "}\n",
       "#T_00e9c_row0_col2, #T_00e9c_row0_col7, #T_00e9c_row1_col3, #T_00e9c_row1_col6, #T_00e9c_row4_col9, #T_00e9c_row5_col9, #T_00e9c_row6_col1, #T_00e9c_row7_col0, #T_00e9c_row7_col8, #T_00e9c_row8_col2, #T_00e9c_row8_col7, #T_00e9c_row9_col4, #T_00e9c_row9_col5 {\n",
       "  background-color: #3b4cc0;\n",
       "  color: #f1f1f1;\n",
       "}\n",
       "#T_00e9c_row0_col3, #T_00e9c_row2_col5, #T_00e9c_row8_col3 {\n",
       "  background-color: #80a3fa;\n",
       "  color: #f1f1f1;\n",
       "}\n",
       "#T_00e9c_row0_col4, #T_00e9c_row8_col4 {\n",
       "  background-color: #aec9fc;\n",
       "  color: #000000;\n",
       "}\n",
       "#T_00e9c_row0_col5, #T_00e9c_row1_col4, #T_00e9c_row1_col7, #T_00e9c_row8_col5 {\n",
       "  background-color: #c6d6f1;\n",
       "  color: #000000;\n",
       "}\n",
       "#T_00e9c_row0_col6, #T_00e9c_row6_col0, #T_00e9c_row6_col8, #T_00e9c_row8_col6 {\n",
       "  background-color: #e2dad5;\n",
       "  color: #000000;\n",
       "}\n",
       "#T_00e9c_row0_col9, #T_00e9c_row6_col7, #T_00e9c_row8_col9 {\n",
       "  background-color: #89acfd;\n",
       "  color: #000000;\n",
       "}\n",
       "#T_00e9c_row1_col0, #T_00e9c_row1_col8 {\n",
       "  background-color: #6687ed;\n",
       "  color: #f1f1f1;\n",
       "}\n",
       "#T_00e9c_row1_col2, #T_00e9c_row2_col1 {\n",
       "  background-color: #ccd9ed;\n",
       "  color: #000000;\n",
       "}\n",
       "#T_00e9c_row1_col5 {\n",
       "  background-color: #bad0f8;\n",
       "  color: #000000;\n",
       "}\n",
       "#T_00e9c_row1_col9 {\n",
       "  background-color: #d1dae9;\n",
       "  color: #000000;\n",
       "}\n",
       "#T_00e9c_row2_col0, #T_00e9c_row2_col8 {\n",
       "  background-color: #3d50c3;\n",
       "  color: #f1f1f1;\n",
       "}\n",
       "#T_00e9c_row2_col3, #T_00e9c_row6_col3 {\n",
       "  background-color: #abc8fd;\n",
       "  color: #000000;\n",
       "}\n",
       "#T_00e9c_row2_col4 {\n",
       "  background-color: #9dbdff;\n",
       "  color: #000000;\n",
       "}\n",
       "#T_00e9c_row2_col6, #T_00e9c_row7_col6 {\n",
       "  background-color: #88abfd;\n",
       "  color: #000000;\n",
       "}\n",
       "#T_00e9c_row2_col7, #T_00e9c_row7_col2 {\n",
       "  background-color: #ca3b37;\n",
       "  color: #f1f1f1;\n",
       "}\n",
       "#T_00e9c_row2_col9 {\n",
       "  background-color: #ebd3c6;\n",
       "  color: #000000;\n",
       "}\n",
       "#T_00e9c_row3_col0, #T_00e9c_row3_col8 {\n",
       "  background-color: #a1c0ff;\n",
       "  color: #000000;\n",
       "}\n",
       "#T_00e9c_row3_col1 {\n",
       "  background-color: #5e7de7;\n",
       "  color: #f1f1f1;\n",
       "}\n",
       "#T_00e9c_row3_col2, #T_00e9c_row5_col0, #T_00e9c_row5_col8 {\n",
       "  background-color: #c4d5f3;\n",
       "  color: #000000;\n",
       "}\n",
       "#T_00e9c_row3_col4 {\n",
       "  background-color: #7295f4;\n",
       "  color: #f1f1f1;\n",
       "}\n",
       "#T_00e9c_row3_col5 {\n",
       "  background-color: #8caffe;\n",
       "  color: #000000;\n",
       "}\n",
       "#T_00e9c_row3_col6, #T_00e9c_row7_col1, #T_00e9c_row9_col3 {\n",
       "  background-color: #c5d6f2;\n",
       "  color: #000000;\n",
       "}\n",
       "#T_00e9c_row3_col7 {\n",
       "  background-color: #e6d7cf;\n",
       "  color: #000000;\n",
       "}\n",
       "#T_00e9c_row3_col9, #T_00e9c_row5_col6 {\n",
       "  background-color: #dbdcde;\n",
       "  color: #000000;\n",
       "}\n",
       "#T_00e9c_row4_col0, #T_00e9c_row4_col8 {\n",
       "  background-color: #aac7fd;\n",
       "  color: #000000;\n",
       "}\n",
       "#T_00e9c_row4_col1 {\n",
       "  background-color: #c3d5f4;\n",
       "  color: #000000;\n",
       "}\n",
       "#T_00e9c_row4_col2 {\n",
       "  background-color: #97b8ff;\n",
       "  color: #000000;\n",
       "}\n",
       "#T_00e9c_row4_col3 {\n",
       "  background-color: #485fd1;\n",
       "  color: #f1f1f1;\n",
       "}\n",
       "#T_00e9c_row4_col5, #T_00e9c_row5_col4 {\n",
       "  background-color: #f5c2aa;\n",
       "  color: #000000;\n",
       "}\n",
       "#T_00e9c_row4_col6 {\n",
       "  background-color: #d2dbe8;\n",
       "  color: #000000;\n",
       "}\n",
       "#T_00e9c_row4_col7, #T_00e9c_row5_col2 {\n",
       "  background-color: #799cf8;\n",
       "  color: #f1f1f1;\n",
       "}\n",
       "#T_00e9c_row5_col1 {\n",
       "  background-color: #b5cdfa;\n",
       "  color: #000000;\n",
       "}\n",
       "#T_00e9c_row5_col3 {\n",
       "  background-color: #6384eb;\n",
       "  color: #f1f1f1;\n",
       "}\n",
       "#T_00e9c_row6_col2 {\n",
       "  background-color: #86a9fc;\n",
       "  color: #f1f1f1;\n",
       "}\n",
       "#T_00e9c_row6_col4 {\n",
       "  background-color: #d5dbe5;\n",
       "  color: #000000;\n",
       "}\n",
       "#T_00e9c_row6_col5 {\n",
       "  background-color: #dedcdb;\n",
       "  color: #000000;\n",
       "}\n",
       "#T_00e9c_row6_col9 {\n",
       "  background-color: #7a9df8;\n",
       "  color: #f1f1f1;\n",
       "}\n",
       "#T_00e9c_row7_col3 {\n",
       "  background-color: #d6dce4;\n",
       "  color: #000000;\n",
       "}\n",
       "#T_00e9c_row7_col4 {\n",
       "  background-color: #7ea1fa;\n",
       "  color: #f1f1f1;\n",
       "}\n",
       "#T_00e9c_row7_col5 {\n",
       "  background-color: #688aef;\n",
       "  color: #f1f1f1;\n",
       "}\n",
       "#T_00e9c_row7_col9 {\n",
       "  background-color: #f4c5ad;\n",
       "  color: #000000;\n",
       "}\n",
       "#T_00e9c_row9_col0, #T_00e9c_row9_col8 {\n",
       "  background-color: #85a8fc;\n",
       "  color: #f1f1f1;\n",
       "}\n",
       "#T_00e9c_row9_col1 {\n",
       "  background-color: #cdd9ec;\n",
       "  color: #000000;\n",
       "}\n",
       "#T_00e9c_row9_col2 {\n",
       "  background-color: #e9d5cb;\n",
       "  color: #000000;\n",
       "}\n",
       "#T_00e9c_row9_col6 {\n",
       "  background-color: #7396f5;\n",
       "  color: #f1f1f1;\n",
       "}\n",
       "#T_00e9c_row9_col7 {\n",
       "  background-color: #f4c6af;\n",
       "  color: #000000;\n",
       "}\n",
       "</style>\n",
       "<table id=\"T_00e9c\">\n",
       "  <thead>\n",
       "    <tr>\n",
       "      <th class=\"blank level0\" >&nbsp;</th>\n",
       "      <th id=\"T_00e9c_level0_col0\" class=\"col_heading level0 col0\" >survived</th>\n",
       "      <th id=\"T_00e9c_level0_col1\" class=\"col_heading level0 col1\" >pclass</th>\n",
       "      <th id=\"T_00e9c_level0_col2\" class=\"col_heading level0 col2\" >sex</th>\n",
       "      <th id=\"T_00e9c_level0_col3\" class=\"col_heading level0 col3\" >age</th>\n",
       "      <th id=\"T_00e9c_level0_col4\" class=\"col_heading level0 col4\" >sibsp</th>\n",
       "      <th id=\"T_00e9c_level0_col5\" class=\"col_heading level0 col5\" >parch</th>\n",
       "      <th id=\"T_00e9c_level0_col6\" class=\"col_heading level0 col6\" >fare</th>\n",
       "      <th id=\"T_00e9c_level0_col7\" class=\"col_heading level0 col7\" >adult_male</th>\n",
       "      <th id=\"T_00e9c_level0_col8\" class=\"col_heading level0 col8\" >alive</th>\n",
       "      <th id=\"T_00e9c_level0_col9\" class=\"col_heading level0 col9\" >alone</th>\n",
       "    </tr>\n",
       "  </thead>\n",
       "  <tbody>\n",
       "    <tr>\n",
       "      <th id=\"T_00e9c_level0_row0\" class=\"row_heading level0 row0\" >survived</th>\n",
       "      <td id=\"T_00e9c_row0_col0\" class=\"data row0 col0\" >1.000000</td>\n",
       "      <td id=\"T_00e9c_row0_col1\" class=\"data row0 col1\" >-0.338481</td>\n",
       "      <td id=\"T_00e9c_row0_col2\" class=\"data row0 col2\" >-0.543351</td>\n",
       "      <td id=\"T_00e9c_row0_col3\" class=\"data row0 col3\" >-0.077221</td>\n",
       "      <td id=\"T_00e9c_row0_col4\" class=\"data row0 col4\" >-0.035322</td>\n",
       "      <td id=\"T_00e9c_row0_col5\" class=\"data row0 col5\" >0.081629</td>\n",
       "      <td id=\"T_00e9c_row0_col6\" class=\"data row0 col6\" >0.257307</td>\n",
       "      <td id=\"T_00e9c_row0_col7\" class=\"data row0 col7\" >-0.557080</td>\n",
       "      <td id=\"T_00e9c_row0_col8\" class=\"data row0 col8\" >1.000000</td>\n",
       "      <td id=\"T_00e9c_row0_col9\" class=\"data row0 col9\" >-0.203367</td>\n",
       "    </tr>\n",
       "    <tr>\n",
       "      <th id=\"T_00e9c_level0_row1\" class=\"row_heading level0 row1\" >pclass</th>\n",
       "      <td id=\"T_00e9c_row1_col0\" class=\"data row1 col0\" >-0.338481</td>\n",
       "      <td id=\"T_00e9c_row1_col1\" class=\"data row1 col1\" >1.000000</td>\n",
       "      <td id=\"T_00e9c_row1_col2\" class=\"data row1 col2\" >0.131900</td>\n",
       "      <td id=\"T_00e9c_row1_col3\" class=\"data row1 col3\" >-0.369226</td>\n",
       "      <td id=\"T_00e9c_row1_col4\" class=\"data row1 col4\" >0.083081</td>\n",
       "      <td id=\"T_00e9c_row1_col5\" class=\"data row1 col5\" >0.018443</td>\n",
       "      <td id=\"T_00e9c_row1_col6\" class=\"data row1 col6\" >-0.549500</td>\n",
       "      <td id=\"T_00e9c_row1_col7\" class=\"data row1 col7\" >0.094035</td>\n",
       "      <td id=\"T_00e9c_row1_col8\" class=\"data row1 col8\" >-0.338481</td>\n",
       "      <td id=\"T_00e9c_row1_col9\" class=\"data row1 col9\" >0.135207</td>\n",
       "    </tr>\n",
       "    <tr>\n",
       "      <th id=\"T_00e9c_level0_row2\" class=\"row_heading level0 row2\" >sex</th>\n",
       "      <td id=\"T_00e9c_row2_col0\" class=\"data row2 col0\" >-0.543351</td>\n",
       "      <td id=\"T_00e9c_row2_col1\" class=\"data row2 col1\" >0.131900</td>\n",
       "      <td id=\"T_00e9c_row2_col2\" class=\"data row2 col2\" >1.000000</td>\n",
       "      <td id=\"T_00e9c_row2_col3\" class=\"data row2 col3\" >0.093254</td>\n",
       "      <td id=\"T_00e9c_row2_col4\" class=\"data row2 col4\" >-0.114631</td>\n",
       "      <td id=\"T_00e9c_row2_col5\" class=\"data row2 col5\" >-0.245489</td>\n",
       "      <td id=\"T_00e9c_row2_col6\" class=\"data row2 col6\" >-0.182333</td>\n",
       "      <td id=\"T_00e9c_row2_col7\" class=\"data row2 col7\" >0.908578</td>\n",
       "      <td id=\"T_00e9c_row2_col8\" class=\"data row2 col8\" >-0.543351</td>\n",
       "      <td id=\"T_00e9c_row2_col9\" class=\"data row2 col9\" >0.303646</td>\n",
       "    </tr>\n",
       "    <tr>\n",
       "      <th id=\"T_00e9c_level0_row3\" class=\"row_heading level0 row3\" >age</th>\n",
       "      <td id=\"T_00e9c_row3_col0\" class=\"data row3 col0\" >-0.077221</td>\n",
       "      <td id=\"T_00e9c_row3_col1\" class=\"data row3 col1\" >-0.369226</td>\n",
       "      <td id=\"T_00e9c_row3_col2\" class=\"data row3 col2\" >0.093254</td>\n",
       "      <td id=\"T_00e9c_row3_col3\" class=\"data row3 col3\" >1.000000</td>\n",
       "      <td id=\"T_00e9c_row3_col4\" class=\"data row3 col4\" >-0.308247</td>\n",
       "      <td id=\"T_00e9c_row3_col5\" class=\"data row3 col5\" >-0.189119</td>\n",
       "      <td id=\"T_00e9c_row3_col6\" class=\"data row3 col6\" >0.096067</td>\n",
       "      <td id=\"T_00e9c_row3_col7\" class=\"data row3 col7\" >0.280328</td>\n",
       "      <td id=\"T_00e9c_row3_col8\" class=\"data row3 col8\" >-0.077221</td>\n",
       "      <td id=\"T_00e9c_row3_col9\" class=\"data row3 col9\" >0.198270</td>\n",
       "    </tr>\n",
       "    <tr>\n",
       "      <th id=\"T_00e9c_level0_row4\" class=\"row_heading level0 row4\" >sibsp</th>\n",
       "      <td id=\"T_00e9c_row4_col0\" class=\"data row4 col0\" >-0.035322</td>\n",
       "      <td id=\"T_00e9c_row4_col1\" class=\"data row4 col1\" >0.083081</td>\n",
       "      <td id=\"T_00e9c_row4_col2\" class=\"data row4 col2\" >-0.114631</td>\n",
       "      <td id=\"T_00e9c_row4_col3\" class=\"data row4 col3\" >-0.308247</td>\n",
       "      <td id=\"T_00e9c_row4_col4\" class=\"data row4 col4\" >1.000000</td>\n",
       "      <td id=\"T_00e9c_row4_col5\" class=\"data row4 col5\" >0.414838</td>\n",
       "      <td id=\"T_00e9c_row4_col6\" class=\"data row4 col6\" >0.159651</td>\n",
       "      <td id=\"T_00e9c_row4_col7\" class=\"data row4 col7\" >-0.253586</td>\n",
       "      <td id=\"T_00e9c_row4_col8\" class=\"data row4 col8\" >-0.035322</td>\n",
       "      <td id=\"T_00e9c_row4_col9\" class=\"data row4 col9\" >-0.584471</td>\n",
       "    </tr>\n",
       "    <tr>\n",
       "      <th id=\"T_00e9c_level0_row5\" class=\"row_heading level0 row5\" >parch</th>\n",
       "      <td id=\"T_00e9c_row5_col0\" class=\"data row5 col0\" >0.081629</td>\n",
       "      <td id=\"T_00e9c_row5_col1\" class=\"data row5 col1\" >0.018443</td>\n",
       "      <td id=\"T_00e9c_row5_col2\" class=\"data row5 col2\" >-0.245489</td>\n",
       "      <td id=\"T_00e9c_row5_col3\" class=\"data row5 col3\" >-0.189119</td>\n",
       "      <td id=\"T_00e9c_row5_col4\" class=\"data row5 col4\" >0.414838</td>\n",
       "      <td id=\"T_00e9c_row5_col5\" class=\"data row5 col5\" >1.000000</td>\n",
       "      <td id=\"T_00e9c_row5_col6\" class=\"data row5 col6\" >0.216225</td>\n",
       "      <td id=\"T_00e9c_row5_col7\" class=\"data row5 col7\" >-0.349943</td>\n",
       "      <td id=\"T_00e9c_row5_col8\" class=\"data row5 col8\" >0.081629</td>\n",
       "      <td id=\"T_00e9c_row5_col9\" class=\"data row5 col9\" >-0.583398</td>\n",
       "    </tr>\n",
       "    <tr>\n",
       "      <th id=\"T_00e9c_level0_row6\" class=\"row_heading level0 row6\" >fare</th>\n",
       "      <td id=\"T_00e9c_row6_col0\" class=\"data row6 col0\" >0.257307</td>\n",
       "      <td id=\"T_00e9c_row6_col1\" class=\"data row6 col1\" >-0.549500</td>\n",
       "      <td id=\"T_00e9c_row6_col2\" class=\"data row6 col2\" >-0.182333</td>\n",
       "      <td id=\"T_00e9c_row6_col3\" class=\"data row6 col3\" >0.096067</td>\n",
       "      <td id=\"T_00e9c_row6_col4\" class=\"data row6 col4\" >0.159651</td>\n",
       "      <td id=\"T_00e9c_row6_col5\" class=\"data row6 col5\" >0.216225</td>\n",
       "      <td id=\"T_00e9c_row6_col6\" class=\"data row6 col6\" >1.000000</td>\n",
       "      <td id=\"T_00e9c_row6_col7\" class=\"data row6 col7\" >-0.182024</td>\n",
       "      <td id=\"T_00e9c_row6_col8\" class=\"data row6 col8\" >0.257307</td>\n",
       "      <td id=\"T_00e9c_row6_col9\" class=\"data row6 col9\" >-0.271832</td>\n",
       "    </tr>\n",
       "    <tr>\n",
       "      <th id=\"T_00e9c_level0_row7\" class=\"row_heading level0 row7\" >adult_male</th>\n",
       "      <td id=\"T_00e9c_row7_col0\" class=\"data row7 col0\" >-0.557080</td>\n",
       "      <td id=\"T_00e9c_row7_col1\" class=\"data row7 col1\" >0.094035</td>\n",
       "      <td id=\"T_00e9c_row7_col2\" class=\"data row7 col2\" >0.908578</td>\n",
       "      <td id=\"T_00e9c_row7_col3\" class=\"data row7 col3\" >0.280328</td>\n",
       "      <td id=\"T_00e9c_row7_col4\" class=\"data row7 col4\" >-0.253586</td>\n",
       "      <td id=\"T_00e9c_row7_col5\" class=\"data row7 col5\" >-0.349943</td>\n",
       "      <td id=\"T_00e9c_row7_col6\" class=\"data row7 col6\" >-0.182024</td>\n",
       "      <td id=\"T_00e9c_row7_col7\" class=\"data row7 col7\" >1.000000</td>\n",
       "      <td id=\"T_00e9c_row7_col8\" class=\"data row7 col8\" >-0.557080</td>\n",
       "      <td id=\"T_00e9c_row7_col9\" class=\"data row7 col9\" >0.404744</td>\n",
       "    </tr>\n",
       "    <tr>\n",
       "      <th id=\"T_00e9c_level0_row8\" class=\"row_heading level0 row8\" >alive</th>\n",
       "      <td id=\"T_00e9c_row8_col0\" class=\"data row8 col0\" >1.000000</td>\n",
       "      <td id=\"T_00e9c_row8_col1\" class=\"data row8 col1\" >-0.338481</td>\n",
       "      <td id=\"T_00e9c_row8_col2\" class=\"data row8 col2\" >-0.543351</td>\n",
       "      <td id=\"T_00e9c_row8_col3\" class=\"data row8 col3\" >-0.077221</td>\n",
       "      <td id=\"T_00e9c_row8_col4\" class=\"data row8 col4\" >-0.035322</td>\n",
       "      <td id=\"T_00e9c_row8_col5\" class=\"data row8 col5\" >0.081629</td>\n",
       "      <td id=\"T_00e9c_row8_col6\" class=\"data row8 col6\" >0.257307</td>\n",
       "      <td id=\"T_00e9c_row8_col7\" class=\"data row8 col7\" >-0.557080</td>\n",
       "      <td id=\"T_00e9c_row8_col8\" class=\"data row8 col8\" >1.000000</td>\n",
       "      <td id=\"T_00e9c_row8_col9\" class=\"data row8 col9\" >-0.203367</td>\n",
       "    </tr>\n",
       "    <tr>\n",
       "      <th id=\"T_00e9c_level0_row9\" class=\"row_heading level0 row9\" >alone</th>\n",
       "      <td id=\"T_00e9c_row9_col0\" class=\"data row9 col0\" >-0.203367</td>\n",
       "      <td id=\"T_00e9c_row9_col1\" class=\"data row9 col1\" >0.135207</td>\n",
       "      <td id=\"T_00e9c_row9_col2\" class=\"data row9 col2\" >0.303646</td>\n",
       "      <td id=\"T_00e9c_row9_col3\" class=\"data row9 col3\" >0.198270</td>\n",
       "      <td id=\"T_00e9c_row9_col4\" class=\"data row9 col4\" >-0.584471</td>\n",
       "      <td id=\"T_00e9c_row9_col5\" class=\"data row9 col5\" >-0.583398</td>\n",
       "      <td id=\"T_00e9c_row9_col6\" class=\"data row9 col6\" >-0.271832</td>\n",
       "      <td id=\"T_00e9c_row9_col7\" class=\"data row9 col7\" >0.404744</td>\n",
       "      <td id=\"T_00e9c_row9_col8\" class=\"data row9 col8\" >-0.203367</td>\n",
       "      <td id=\"T_00e9c_row9_col9\" class=\"data row9 col9\" >1.000000</td>\n",
       "    </tr>\n",
       "  </tbody>\n",
       "</table>\n"
      ],
      "text/plain": [
       "<pandas.io.formats.style.Styler at 0x7f1f22866a30>"
      ]
     },
     "execution_count": 15,
     "metadata": {},
     "output_type": "execute_result"
    }
   ],
   "source": [
    "df.corr(numeric_only=True).style.background_gradient(cmap='coolwarm')"
   ]
  },
  {
   "cell_type": "code",
   "execution_count": 16,
   "metadata": {},
   "outputs": [
    {
     "data": {
      "text/html": [
       "<style type=\"text/css\">\n",
       "#T_0f7e0_row0_col0, #T_0f7e0_row8_col0 {\n",
       "  background-color: #b40426;\n",
       "  color: #f1f1f1;\n",
       "}\n",
       "#T_0f7e0_row1_col0 {\n",
       "  background-color: #6687ed;\n",
       "  color: #f1f1f1;\n",
       "}\n",
       "#T_0f7e0_row2_col0 {\n",
       "  background-color: #3d50c3;\n",
       "  color: #f1f1f1;\n",
       "}\n",
       "#T_0f7e0_row3_col0 {\n",
       "  background-color: #a1c0ff;\n",
       "  color: #000000;\n",
       "}\n",
       "#T_0f7e0_row4_col0 {\n",
       "  background-color: #aac7fd;\n",
       "  color: #000000;\n",
       "}\n",
       "#T_0f7e0_row5_col0 {\n",
       "  background-color: #c4d5f3;\n",
       "  color: #000000;\n",
       "}\n",
       "#T_0f7e0_row6_col0 {\n",
       "  background-color: #e2dad5;\n",
       "  color: #000000;\n",
       "}\n",
       "#T_0f7e0_row7_col0 {\n",
       "  background-color: #3b4cc0;\n",
       "  color: #f1f1f1;\n",
       "}\n",
       "#T_0f7e0_row9_col0 {\n",
       "  background-color: #85a8fc;\n",
       "  color: #f1f1f1;\n",
       "}\n",
       "</style>\n",
       "<table id=\"T_0f7e0\">\n",
       "  <thead>\n",
       "    <tr>\n",
       "      <th class=\"blank level0\" >&nbsp;</th>\n",
       "      <th id=\"T_0f7e0_level0_col0\" class=\"col_heading level0 col0\" >survived</th>\n",
       "    </tr>\n",
       "  </thead>\n",
       "  <tbody>\n",
       "    <tr>\n",
       "      <th id=\"T_0f7e0_level0_row0\" class=\"row_heading level0 row0\" >survived</th>\n",
       "      <td id=\"T_0f7e0_row0_col0\" class=\"data row0 col0\" >1.000000</td>\n",
       "    </tr>\n",
       "    <tr>\n",
       "      <th id=\"T_0f7e0_level0_row1\" class=\"row_heading level0 row1\" >pclass</th>\n",
       "      <td id=\"T_0f7e0_row1_col0\" class=\"data row1 col0\" >-0.338481</td>\n",
       "    </tr>\n",
       "    <tr>\n",
       "      <th id=\"T_0f7e0_level0_row2\" class=\"row_heading level0 row2\" >sex</th>\n",
       "      <td id=\"T_0f7e0_row2_col0\" class=\"data row2 col0\" >-0.543351</td>\n",
       "    </tr>\n",
       "    <tr>\n",
       "      <th id=\"T_0f7e0_level0_row3\" class=\"row_heading level0 row3\" >age</th>\n",
       "      <td id=\"T_0f7e0_row3_col0\" class=\"data row3 col0\" >-0.077221</td>\n",
       "    </tr>\n",
       "    <tr>\n",
       "      <th id=\"T_0f7e0_level0_row4\" class=\"row_heading level0 row4\" >sibsp</th>\n",
       "      <td id=\"T_0f7e0_row4_col0\" class=\"data row4 col0\" >-0.035322</td>\n",
       "    </tr>\n",
       "    <tr>\n",
       "      <th id=\"T_0f7e0_level0_row5\" class=\"row_heading level0 row5\" >parch</th>\n",
       "      <td id=\"T_0f7e0_row5_col0\" class=\"data row5 col0\" >0.081629</td>\n",
       "    </tr>\n",
       "    <tr>\n",
       "      <th id=\"T_0f7e0_level0_row6\" class=\"row_heading level0 row6\" >fare</th>\n",
       "      <td id=\"T_0f7e0_row6_col0\" class=\"data row6 col0\" >0.257307</td>\n",
       "    </tr>\n",
       "    <tr>\n",
       "      <th id=\"T_0f7e0_level0_row7\" class=\"row_heading level0 row7\" >adult_male</th>\n",
       "      <td id=\"T_0f7e0_row7_col0\" class=\"data row7 col0\" >-0.557080</td>\n",
       "    </tr>\n",
       "    <tr>\n",
       "      <th id=\"T_0f7e0_level0_row8\" class=\"row_heading level0 row8\" >alive</th>\n",
       "      <td id=\"T_0f7e0_row8_col0\" class=\"data row8 col0\" >1.000000</td>\n",
       "    </tr>\n",
       "    <tr>\n",
       "      <th id=\"T_0f7e0_level0_row9\" class=\"row_heading level0 row9\" >alone</th>\n",
       "      <td id=\"T_0f7e0_row9_col0\" class=\"data row9 col0\" >-0.203367</td>\n",
       "    </tr>\n",
       "  </tbody>\n",
       "</table>\n"
      ],
      "text/plain": [
       "<pandas.io.formats.style.Styler at 0x7f1f227eabe0>"
      ]
     },
     "execution_count": 16,
     "metadata": {},
     "output_type": "execute_result"
    }
   ],
   "source": [
    "df.corr(numeric_only=True)[[\"survived\"]].style.background_gradient(cmap=\"coolwarm\")"
   ]
  },
  {
   "cell_type": "code",
   "execution_count": 17,
   "metadata": {},
   "outputs": [
    {
     "data": {
      "text/plain": [
       "0      0\n",
       "1      1\n",
       "2      1\n",
       "3      1\n",
       "4      0\n",
       "      ..\n",
       "886    0\n",
       "887    1\n",
       "888    0\n",
       "889    1\n",
       "890    0\n",
       "Name: survived, Length: 891, dtype: int64"
      ]
     },
     "execution_count": 17,
     "metadata": {},
     "output_type": "execute_result"
    }
   ],
   "source": [
    "# returns dataframe\n",
    "df[['survived']]\n",
    "\n",
    "# returns series\n",
    "df['survived']"
   ]
  },
  {
   "cell_type": "code",
   "execution_count": 18,
   "metadata": {},
   "outputs": [],
   "source": [
    "df.drop(columns=['alive'], inplace=True)"
   ]
  },
  {
   "cell_type": "markdown",
   "metadata": {},
   "source": [
    "## Describe Data"
   ]
  },
  {
   "cell_type": "code",
   "execution_count": 19,
   "metadata": {},
   "outputs": [
    {
     "data": {
      "text/html": [
       "<div>\n",
       "<style scoped>\n",
       "    .dataframe tbody tr th:only-of-type {\n",
       "        vertical-align: middle;\n",
       "    }\n",
       "\n",
       "    .dataframe tbody tr th {\n",
       "        vertical-align: top;\n",
       "    }\n",
       "\n",
       "    .dataframe thead th {\n",
       "        text-align: right;\n",
       "    }\n",
       "</style>\n",
       "<table border=\"1\" class=\"dataframe\">\n",
       "  <thead>\n",
       "    <tr style=\"text-align: right;\">\n",
       "      <th></th>\n",
       "      <th>survived</th>\n",
       "      <th>pclass</th>\n",
       "      <th>sex</th>\n",
       "      <th>age</th>\n",
       "      <th>sibsp</th>\n",
       "      <th>parch</th>\n",
       "      <th>fare</th>\n",
       "    </tr>\n",
       "  </thead>\n",
       "  <tbody>\n",
       "    <tr>\n",
       "      <th>count</th>\n",
       "      <td>891.000000</td>\n",
       "      <td>891.000000</td>\n",
       "      <td>891.000000</td>\n",
       "      <td>714.000000</td>\n",
       "      <td>891.000000</td>\n",
       "      <td>891.000000</td>\n",
       "      <td>891.000000</td>\n",
       "    </tr>\n",
       "    <tr>\n",
       "      <th>mean</th>\n",
       "      <td>0.383838</td>\n",
       "      <td>2.308642</td>\n",
       "      <td>0.647587</td>\n",
       "      <td>29.699118</td>\n",
       "      <td>0.523008</td>\n",
       "      <td>0.381594</td>\n",
       "      <td>32.204208</td>\n",
       "    </tr>\n",
       "    <tr>\n",
       "      <th>std</th>\n",
       "      <td>0.486592</td>\n",
       "      <td>0.836071</td>\n",
       "      <td>0.477990</td>\n",
       "      <td>14.526497</td>\n",
       "      <td>1.102743</td>\n",
       "      <td>0.806057</td>\n",
       "      <td>49.693429</td>\n",
       "    </tr>\n",
       "    <tr>\n",
       "      <th>min</th>\n",
       "      <td>0.000000</td>\n",
       "      <td>1.000000</td>\n",
       "      <td>0.000000</td>\n",
       "      <td>0.420000</td>\n",
       "      <td>0.000000</td>\n",
       "      <td>0.000000</td>\n",
       "      <td>0.000000</td>\n",
       "    </tr>\n",
       "    <tr>\n",
       "      <th>25%</th>\n",
       "      <td>0.000000</td>\n",
       "      <td>2.000000</td>\n",
       "      <td>0.000000</td>\n",
       "      <td>20.125000</td>\n",
       "      <td>0.000000</td>\n",
       "      <td>0.000000</td>\n",
       "      <td>7.910400</td>\n",
       "    </tr>\n",
       "    <tr>\n",
       "      <th>50%</th>\n",
       "      <td>0.000000</td>\n",
       "      <td>3.000000</td>\n",
       "      <td>1.000000</td>\n",
       "      <td>28.000000</td>\n",
       "      <td>0.000000</td>\n",
       "      <td>0.000000</td>\n",
       "      <td>14.454200</td>\n",
       "    </tr>\n",
       "    <tr>\n",
       "      <th>75%</th>\n",
       "      <td>1.000000</td>\n",
       "      <td>3.000000</td>\n",
       "      <td>1.000000</td>\n",
       "      <td>38.000000</td>\n",
       "      <td>1.000000</td>\n",
       "      <td>0.000000</td>\n",
       "      <td>31.000000</td>\n",
       "    </tr>\n",
       "    <tr>\n",
       "      <th>max</th>\n",
       "      <td>1.000000</td>\n",
       "      <td>3.000000</td>\n",
       "      <td>1.000000</td>\n",
       "      <td>80.000000</td>\n",
       "      <td>8.000000</td>\n",
       "      <td>6.000000</td>\n",
       "      <td>512.329200</td>\n",
       "    </tr>\n",
       "  </tbody>\n",
       "</table>\n",
       "</div>"
      ],
      "text/plain": [
       "         survived      pclass         sex         age       sibsp       parch  \\\n",
       "count  891.000000  891.000000  891.000000  714.000000  891.000000  891.000000   \n",
       "mean     0.383838    2.308642    0.647587   29.699118    0.523008    0.381594   \n",
       "std      0.486592    0.836071    0.477990   14.526497    1.102743    0.806057   \n",
       "min      0.000000    1.000000    0.000000    0.420000    0.000000    0.000000   \n",
       "25%      0.000000    2.000000    0.000000   20.125000    0.000000    0.000000   \n",
       "50%      0.000000    3.000000    1.000000   28.000000    0.000000    0.000000   \n",
       "75%      1.000000    3.000000    1.000000   38.000000    1.000000    0.000000   \n",
       "max      1.000000    3.000000    1.000000   80.000000    8.000000    6.000000   \n",
       "\n",
       "             fare  \n",
       "count  891.000000  \n",
       "mean    32.204208  \n",
       "std     49.693429  \n",
       "min      0.000000  \n",
       "25%      7.910400  \n",
       "50%     14.454200  \n",
       "75%     31.000000  \n",
       "max    512.329200  "
      ]
     },
     "execution_count": 19,
     "metadata": {},
     "output_type": "execute_result"
    }
   ],
   "source": [
    "df.describe()"
   ]
  },
  {
   "cell_type": "markdown",
   "metadata": {},
   "source": [
    "> Data is relatively imbalanced!"
   ]
  },
  {
   "cell_type": "code",
   "execution_count": 20,
   "metadata": {},
   "outputs": [
    {
     "data": {
      "text/plain": [
       "False"
      ]
     },
     "execution_count": 20,
     "metadata": {},
     "output_type": "execute_result"
    }
   ],
   "source": [
    "(df.embarked == df.embark_town.str.get(0)).all()"
   ]
  },
  {
   "cell_type": "code",
   "execution_count": 21,
   "metadata": {},
   "outputs": [
    {
     "data": {
      "text/html": [
       "<div>\n",
       "<style scoped>\n",
       "    .dataframe tbody tr th:only-of-type {\n",
       "        vertical-align: middle;\n",
       "    }\n",
       "\n",
       "    .dataframe tbody tr th {\n",
       "        vertical-align: top;\n",
       "    }\n",
       "\n",
       "    .dataframe thead th {\n",
       "        text-align: right;\n",
       "    }\n",
       "</style>\n",
       "<table border=\"1\" class=\"dataframe\">\n",
       "  <thead>\n",
       "    <tr style=\"text-align: right;\">\n",
       "      <th></th>\n",
       "      <th>survived</th>\n",
       "      <th>pclass</th>\n",
       "      <th>sex</th>\n",
       "      <th>age</th>\n",
       "      <th>sibsp</th>\n",
       "      <th>parch</th>\n",
       "      <th>fare</th>\n",
       "      <th>embarked</th>\n",
       "      <th>class</th>\n",
       "      <th>who</th>\n",
       "      <th>adult_male</th>\n",
       "      <th>deck</th>\n",
       "      <th>embark_town</th>\n",
       "      <th>alone</th>\n",
       "    </tr>\n",
       "  </thead>\n",
       "  <tbody>\n",
       "    <tr>\n",
       "      <th>61</th>\n",
       "      <td>1</td>\n",
       "      <td>1</td>\n",
       "      <td>0</td>\n",
       "      <td>38.0</td>\n",
       "      <td>0</td>\n",
       "      <td>0</td>\n",
       "      <td>80.0</td>\n",
       "      <td>NaN</td>\n",
       "      <td>First</td>\n",
       "      <td>woman</td>\n",
       "      <td>False</td>\n",
       "      <td>B</td>\n",
       "      <td>NaN</td>\n",
       "      <td>True</td>\n",
       "    </tr>\n",
       "    <tr>\n",
       "      <th>829</th>\n",
       "      <td>1</td>\n",
       "      <td>1</td>\n",
       "      <td>0</td>\n",
       "      <td>62.0</td>\n",
       "      <td>0</td>\n",
       "      <td>0</td>\n",
       "      <td>80.0</td>\n",
       "      <td>NaN</td>\n",
       "      <td>First</td>\n",
       "      <td>woman</td>\n",
       "      <td>False</td>\n",
       "      <td>B</td>\n",
       "      <td>NaN</td>\n",
       "      <td>True</td>\n",
       "    </tr>\n",
       "  </tbody>\n",
       "</table>\n",
       "</div>"
      ],
      "text/plain": [
       "     survived  pclass  sex   age  sibsp  parch  fare embarked  class    who  \\\n",
       "61          1       1    0  38.0      0      0  80.0      NaN  First  woman   \n",
       "829         1       1    0  62.0      0      0  80.0      NaN  First  woman   \n",
       "\n",
       "     adult_male deck embark_town  alone  \n",
       "61        False    B         NaN   True  \n",
       "829       False    B         NaN   True  "
      ]
     },
     "execution_count": 21,
     "metadata": {},
     "output_type": "execute_result"
    }
   ],
   "source": [
    "df[df.embarked != df.embark_town.str.get(0)]"
   ]
  },
  {
   "cell_type": "code",
   "execution_count": 22,
   "metadata": {},
   "outputs": [],
   "source": [
    "df.drop(columns=['embark_town'], inplace=True)"
   ]
  },
  {
   "cell_type": "code",
   "execution_count": null,
   "metadata": {},
   "outputs": [],
   "source": []
  },
  {
   "cell_type": "markdown",
   "metadata": {},
   "source": [
    "## missing values check"
   ]
  },
  {
   "cell_type": "code",
   "execution_count": 23,
   "metadata": {},
   "outputs": [
    {
     "data": {
      "text/plain": [
       "survived      0.000000\n",
       "pclass        0.000000\n",
       "sex           0.000000\n",
       "age           0.198653\n",
       "sibsp         0.000000\n",
       "parch         0.000000\n",
       "fare          0.000000\n",
       "embarked      0.002245\n",
       "class         0.000000\n",
       "who           0.000000\n",
       "adult_male    0.000000\n",
       "deck          0.772166\n",
       "alone         0.000000\n",
       "dtype: float64"
      ]
     },
     "execution_count": 23,
     "metadata": {},
     "output_type": "execute_result"
    }
   ],
   "source": [
    "df.isna().sum() / df.shape[0]"
   ]
  },
  {
   "cell_type": "code",
   "execution_count": 24,
   "metadata": {},
   "outputs": [
    {
     "data": {
      "text/plain": [
       "<Axes: >"
      ]
     },
     "execution_count": 24,
     "metadata": {},
     "output_type": "execute_result"
    },
    {
     "data": {
      "image/png": "[encoded data removed]",
      "text/plain": [
       "<Figure size 640x480 with 1 Axes>"
      ]
     },
     "metadata": {},
     "output_type": "display_data"
    }
   ],
   "source": [
    "%matplotlib inline\n",
    "sns.barplot(\n",
    "    x=df.isna().sum() / df.shape[0],\n",
    "    y=df.columns\n",
    ")"
   ]
  },
  {
   "cell_type": "code",
   "execution_count": 27,
   "metadata": {},
   "outputs": [
    {
     "data": {
      "text/plain": [
       "[NaN, 'C', 'E', 'G', 'D', 'A', 'B', 'F']\n",
       "Categories (7, object): ['A', 'B', 'C', 'D', 'E', 'F', 'G']"
      ]
     },
     "execution_count": 27,
     "metadata": {},
     "output_type": "execute_result"
    }
   ],
   "source": [
    "df.deck.unique()"
   ]
  },
  {
   "cell_type": "markdown",
   "metadata": {},
   "source": [
    "### Deck"
   ]
  },
  {
   "cell_type": "code",
   "execution_count": 28,
   "metadata": {},
   "outputs": [],
   "source": [
    "df.drop(columns='deck', inplace=True)"
   ]
  },
  {
   "cell_type": "code",
   "execution_count": 32,
   "metadata": {},
   "outputs": [
    {
     "data": {
      "text/html": [
       "<div>\n",
       "<style scoped>\n",
       "    .dataframe tbody tr th:only-of-type {\n",
       "        vertical-align: middle;\n",
       "    }\n",
       "\n",
       "    .dataframe tbody tr th {\n",
       "        vertical-align: top;\n",
       "    }\n",
       "\n",
       "    .dataframe thead th {\n",
       "        text-align: right;\n",
       "    }\n",
       "</style>\n",
       "<table border=\"1\" class=\"dataframe\">\n",
       "  <thead>\n",
       "    <tr style=\"text-align: right;\">\n",
       "      <th></th>\n",
       "      <th>survived</th>\n",
       "    </tr>\n",
       "  </thead>\n",
       "  <tbody>\n",
       "    <tr>\n",
       "      <th>survived</th>\n",
       "      <td>1.000000</td>\n",
       "    </tr>\n",
       "    <tr>\n",
       "      <th>pclass</th>\n",
       "      <td>-0.338481</td>\n",
       "    </tr>\n",
       "    <tr>\n",
       "      <th>sex</th>\n",
       "      <td>-0.543351</td>\n",
       "    </tr>\n",
       "    <tr>\n",
       "      <th>age</th>\n",
       "      <td>-0.077221</td>\n",
       "    </tr>\n",
       "    <tr>\n",
       "      <th>sibsp</th>\n",
       "      <td>-0.035322</td>\n",
       "    </tr>\n",
       "    <tr>\n",
       "      <th>parch</th>\n",
       "      <td>0.081629</td>\n",
       "    </tr>\n",
       "    <tr>\n",
       "      <th>fare</th>\n",
       "      <td>0.257307</td>\n",
       "    </tr>\n",
       "    <tr>\n",
       "      <th>adult_male</th>\n",
       "      <td>-0.557080</td>\n",
       "    </tr>\n",
       "    <tr>\n",
       "      <th>alone</th>\n",
       "      <td>-0.203367</td>\n",
       "    </tr>\n",
       "  </tbody>\n",
       "</table>\n",
       "</div>"
      ],
      "text/plain": [
       "            survived\n",
       "survived    1.000000\n",
       "pclass     -0.338481\n",
       "sex        -0.543351\n",
       "age        -0.077221\n",
       "sibsp      -0.035322\n",
       "parch       0.081629\n",
       "fare        0.257307\n",
       "adult_male -0.557080\n",
       "alone      -0.203367"
      ]
     },
     "execution_count": 32,
     "metadata": {},
     "output_type": "execute_result"
    }
   ],
   "source": [
    "df.corr(numeric_only=True)[['survived']]"
   ]
  },
  {
   "cell_type": "code",
   "execution_count": 33,
   "metadata": {},
   "outputs": [
    {
     "data": {
      "text/plain": [
       "0      22.000000\n",
       "1      38.000000\n",
       "2      26.000000\n",
       "3      35.000000\n",
       "4      35.000000\n",
       "         ...    \n",
       "886    27.000000\n",
       "887    19.000000\n",
       "888    29.699118\n",
       "889    26.000000\n",
       "890    32.000000\n",
       "Name: age, Length: 891, dtype: float64"
      ]
     },
     "execution_count": 33,
     "metadata": {},
     "output_type": "execute_result"
    }
   ],
   "source": [
    "df.age.fillna(df.age.mean())"
   ]
  },
  {
   "cell_type": "code",
   "execution_count": 35,
   "metadata": {},
   "outputs": [
    {
     "data": {
      "text/plain": [
       "0      22.0\n",
       "1      38.0\n",
       "2      26.0\n",
       "3      35.0\n",
       "4      35.0\n",
       "       ... \n",
       "886    27.0\n",
       "887    19.0\n",
       "888     NaN\n",
       "889    26.0\n",
       "890    32.0\n",
       "Name: age, Length: 891, dtype: float64"
      ]
     },
     "execution_count": 35,
     "metadata": {},
     "output_type": "execute_result"
    }
   ],
   "source": [
    "df.age"
   ]
  },
  {
   "cell_type": "code",
   "execution_count": 36,
   "metadata": {},
   "outputs": [
    {
     "data": {
      "text/html": [
       "<style type=\"text/css\">\n",
       "#T_ec388_row0_col0 {\n",
       "  background-color: #80a3fa;\n",
       "  color: #f1f1f1;\n",
       "}\n",
       "#T_ec388_row1_col0 {\n",
       "  background-color: #3b4cc0;\n",
       "  color: #f1f1f1;\n",
       "}\n",
       "#T_ec388_row2_col0, #T_ec388_row6_col0 {\n",
       "  background-color: #abc8fd;\n",
       "  color: #000000;\n",
       "}\n",
       "#T_ec388_row3_col0 {\n",
       "  background-color: #b40426;\n",
       "  color: #f1f1f1;\n",
       "}\n",
       "#T_ec388_row4_col0 {\n",
       "  background-color: #485fd1;\n",
       "  color: #f1f1f1;\n",
       "}\n",
       "#T_ec388_row5_col0 {\n",
       "  background-color: #6384eb;\n",
       "  color: #f1f1f1;\n",
       "}\n",
       "#T_ec388_row7_col0 {\n",
       "  background-color: #d6dce4;\n",
       "  color: #000000;\n",
       "}\n",
       "#T_ec388_row8_col0 {\n",
       "  background-color: #c5d6f2;\n",
       "  color: #000000;\n",
       "}\n",
       "</style>\n",
       "<table id=\"T_ec388\">\n",
       "  <thead>\n",
       "    <tr>\n",
       "      <th class=\"blank level0\" >&nbsp;</th>\n",
       "      <th id=\"T_ec388_level0_col0\" class=\"col_heading level0 col0\" >age</th>\n",
       "    </tr>\n",
       "  </thead>\n",
       "  <tbody>\n",
       "    <tr>\n",
       "      <th id=\"T_ec388_level0_row0\" class=\"row_heading level0 row0\" >survived</th>\n",
       "      <td id=\"T_ec388_row0_col0\" class=\"data row0 col0\" >-0.077221</td>\n",
       "    </tr>\n",
       "    <tr>\n",
       "      <th id=\"T_ec388_level0_row1\" class=\"row_heading level0 row1\" >pclass</th>\n",
       "      <td id=\"T_ec388_row1_col0\" class=\"data row1 col0\" >-0.369226</td>\n",
       "    </tr>\n",
       "    <tr>\n",
       "      <th id=\"T_ec388_level0_row2\" class=\"row_heading level0 row2\" >sex</th>\n",
       "      <td id=\"T_ec388_row2_col0\" class=\"data row2 col0\" >0.093254</td>\n",
       "    </tr>\n",
       "    <tr>\n",
       "      <th id=\"T_ec388_level0_row3\" class=\"row_heading level0 row3\" >age</th>\n",
       "      <td id=\"T_ec388_row3_col0\" class=\"data row3 col0\" >1.000000</td>\n",
       "    </tr>\n",
       "    <tr>\n",
       "      <th id=\"T_ec388_level0_row4\" class=\"row_heading level0 row4\" >sibsp</th>\n",
       "      <td id=\"T_ec388_row4_col0\" class=\"data row4 col0\" >-0.308247</td>\n",
       "    </tr>\n",
       "    <tr>\n",
       "      <th id=\"T_ec388_level0_row5\" class=\"row_heading level0 row5\" >parch</th>\n",
       "      <td id=\"T_ec388_row5_col0\" class=\"data row5 col0\" >-0.189119</td>\n",
       "    </tr>\n",
       "    <tr>\n",
       "      <th id=\"T_ec388_level0_row6\" class=\"row_heading level0 row6\" >fare</th>\n",
       "      <td id=\"T_ec388_row6_col0\" class=\"data row6 col0\" >0.096067</td>\n",
       "    </tr>\n",
       "    <tr>\n",
       "      <th id=\"T_ec388_level0_row7\" class=\"row_heading level0 row7\" >adult_male</th>\n",
       "      <td id=\"T_ec388_row7_col0\" class=\"data row7 col0\" >0.280328</td>\n",
       "    </tr>\n",
       "    <tr>\n",
       "      <th id=\"T_ec388_level0_row8\" class=\"row_heading level0 row8\" >alone</th>\n",
       "      <td id=\"T_ec388_row8_col0\" class=\"data row8 col0\" >0.198270</td>\n",
       "    </tr>\n",
       "  </tbody>\n",
       "</table>\n"
      ],
      "text/plain": [
       "<pandas.io.formats.style.Styler at 0x7f1f1ca6d190>"
      ]
     },
     "execution_count": 36,
     "metadata": {},
     "output_type": "execute_result"
    }
   ],
   "source": [
    "df.corr(numeric_only=True)[['age']].style.background_gradient(cmap='coolwarm')"
   ]
  },
  {
   "cell_type": "code",
   "execution_count": 53,
   "metadata": {},
   "outputs": [
    {
     "data": {
      "text/plain": [
       "0      22.0\n",
       "1      38.0\n",
       "2      26.0\n",
       "3      35.0\n",
       "4      35.0\n",
       "       ... \n",
       "886    27.0\n",
       "887    19.0\n",
       "888     NaN\n",
       "889    26.0\n",
       "890    32.0\n",
       "Name: age, Length: 891, dtype: float64"
      ]
     },
     "execution_count": 53,
     "metadata": {},
     "output_type": "execute_result"
    }
   ],
   "source": [
    "df.age"
   ]
  },
  {
   "cell_type": "code",
   "execution_count": 52,
   "metadata": {},
   "outputs": [
    {
     "data": {
      "text/plain": [
       "0      33.173123\n",
       "1      24.932458\n",
       "2      24.932458\n",
       "3      24.932458\n",
       "4      33.173123\n",
       "         ...    \n",
       "886    33.173123\n",
       "887    24.932458\n",
       "888    24.932458\n",
       "889    33.173123\n",
       "890    33.173123\n",
       "Name: age, Length: 891, dtype: float64"
      ]
     },
     "execution_count": 52,
     "metadata": {},
     "output_type": "execute_result"
    }
   ],
   "source": [
    "df.groupby(['adult_male']).age.transform('mean')"
   ]
  },
  {
   "cell_type": "code",
   "execution_count": 54,
   "metadata": {},
   "outputs": [
    {
     "data": {
      "text/plain": [
       "adult_male\n",
       "False    24.932458\n",
       "True     33.173123\n",
       "Name: age, dtype: float64"
      ]
     },
     "execution_count": 54,
     "metadata": {},
     "output_type": "execute_result"
    }
   ],
   "source": [
    "df.groupby(['adult_male']).age.mean()"
   ]
  },
  {
   "cell_type": "code",
   "execution_count": 49,
   "metadata": {},
   "outputs": [],
   "source": [
    "df['age_1'] = df.age.fillna(\n",
    "    df.groupby(['adult_male']).age.transform('mean')\n",
    ")"
   ]
  },
  {
   "cell_type": "code",
   "execution_count": 51,
   "metadata": {},
   "outputs": [
    {
     "data": {
      "image/png": "[encoded data removed]",
      "text/plain": [
       "<Figure size 640x480 with 1 Axes>"
      ]
     },
     "metadata": {},
     "output_type": "display_data"
    }
   ],
   "source": [
    "ax = sns.histplot(df.age, color='palegreen')\n",
    "sns.histplot(df.age.fillna(df.age.mean()), ax=ax, color='yellow')\n",
    "ax = sns.histplot(df.age_1, color='red')"
   ]
  },
  {
   "cell_type": "code",
   "execution_count": 55,
   "metadata": {},
   "outputs": [
    {
     "data": {
      "text/plain": [
       "adult_male  alone\n",
       "False       False    22.393350\n",
       "            True     29.960396\n",
       "True        False    33.722727\n",
       "            True     32.973597\n",
       "Name: age, dtype: float64"
      ]
     },
     "execution_count": 55,
     "metadata": {},
     "output_type": "execute_result"
    }
   ],
   "source": [
    "df.groupby(['adult_male', 'alone']).age.mean()"
   ]
  },
  {
   "cell_type": "code",
   "execution_count": null,
   "metadata": {},
   "outputs": [],
   "source": []
  }
 ],
 "metadata": {
  "kernelspec": {
   "display_name": "tele_statistics",
   "language": "python",
   "name": "python3"
  },
  "language_info": {
   "codemirror_mode": {
    "name": "ipython",
    "version": 3
   },
   "file_extension": ".py",
   "mimetype": "text/x-python",
   "name": "python",
   "nbconvert_exporter": "python",
   "pygments_lexer": "ipython3",
   "version": "3.8.16"
  },
  "orig_nbformat": 4
 },
 "nbformat": 4,
 "nbformat_minor": 2
}
